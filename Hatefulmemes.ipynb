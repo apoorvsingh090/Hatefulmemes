{
  "nbformat": 4,
  "nbformat_minor": 0,
  "metadata": {
    "colab": {
      "name": "Hatefulmemes.ipynb",
      "provenance": [],
      "collapsed_sections": [],
      "authorship_tag": "ABX9TyPORfITa0IgKmvIpcD2fxWl"
    },
    "kernelspec": {
      "name": "python3",
      "display_name": "Python 3"
    },
    "accelerator": "GPU"
  },
  "cells": [
    {
      "cell_type": "code",
      "metadata": {
        "id": "WoFCUZq34Asm"
      },
      "source": [
        "import pandas as pd\n",
        "import numpy as np\n",
        "import tensorflow as tf\n",
        "from datetime import datetime\n",
        "import matplotlib.pyplot as plt"
      ],
      "execution_count": null,
      "outputs": []
    },
    {
      "cell_type": "code",
      "metadata": {
        "id": "Y6Ly6Op58TGh"
      },
      "source": [
        "df=pd.read_json(\"/content/data/train.jsonl\",lines=True)\n",
        "df2=pd.read_json(\"/content/data/dev.jsonl\",lines=True)"
      ],
      "execution_count": null,
      "outputs": []
    },
    {
      "cell_type": "code",
      "metadata": {
        "id": "_lrCxqx_q4fT"
      },
      "source": [
        "from PIL import Image\n",
        "train_imglabel0=[]\n",
        "train_imglabel1=[]\n",
        "for i in range(len(df)):\n",
        "  if(df.label[i]==1):\n",
        "    train_imglabel0.append(Image.open('/content/data/'+df.img[i]).resize((224,224)).convert('LA'))\n",
        "  else:\n",
        "    train_imglabel1.append(Image.open('/content/data/'+df.img[i]).resize((224,224)).convert('LA'))\n"
      ],
      "execution_count": null,
      "outputs": []
    },
    {
      "cell_type": "code",
      "metadata": {
        "id": "c9R9FjC8kGD_"
      },
      "source": [
        "from PIL import Image\n",
        "val_imglabel0=[]\n",
        "val_imglabel1=[]\n",
        "for i in range(len(df2)):\n",
        "  if(df2.label[i]==1):\n",
        "    val_imglabel0.append(Image.open('/content/data/'+df2.img[i]).resize((224,224)).convert('LA'))\n",
        "  else:\n",
        "    val_imglabel1.append(Image.open('/content/data/'+df2.img[i]).resize((224,224)).convert('LA'))\n"
      ],
      "execution_count": null,
      "outputs": []
    },
    {
      "cell_type": "code",
      "metadata": {
        "id": "c4osynE1rUkO",
        "outputId": "37e3cb78-0dea-46ea-ca4b-9a0db5291734",
        "colab": {
          "base_uri": "https://localhost:8080/",
          "height": 35
        }
      },
      "source": [
        "\"\"\"fig = plt.gcf()\n",
        "fig.set_size_inches(20, 20)\n",
        "\n",
        "for i in range(20):\n",
        "  plt.subplot(5,4, i + 1)\n",
        "  plt.imshow(train_imglabel0[i])\n",
        "plt.show()\n",
        "\"\"\"\n"
      ],
      "execution_count": null,
      "outputs": [
        {
          "output_type": "execute_result",
          "data": {
            "application/vnd.google.colaboratory.intrinsic+json": {
              "type": "string"
            },
            "text/plain": [
              "'fig = plt.gcf()\\nfig.set_size_inches(20, 20)\\n\\nfor i in range(20):\\n  plt.subplot(5,4, i + 1)\\n  plt.imshow(train_imglabel0[i])\\nplt.show()\\n'"
            ]
          },
          "metadata": {
            "tags": []
          },
          "execution_count": 8
        }
      ]
    },
    {
      "cell_type": "code",
      "metadata": {
        "id": "3WbQXhgINAuF",
        "outputId": "0f5522f8-af52-4ad0-98ba-3506dcb6df11",
        "colab": {
          "base_uri": "https://localhost:8080/",
          "height": 35
        }
      },
      "source": [
        "\"\"\"fig = plt.gcf()\n",
        "fig.set_size_inches(20, 20)\n",
        "\n",
        "for i in range(20):\n",
        "  plt.subplot(5,4, i + 1)\n",
        "  plt.imshow(train_imglabel1[i])\n",
        "plt.show()\n",
        "\"\"\"\n"
      ],
      "execution_count": null,
      "outputs": [
        {
          "output_type": "execute_result",
          "data": {
            "application/vnd.google.colaboratory.intrinsic+json": {
              "type": "string"
            },
            "text/plain": [
              "'fig = plt.gcf()\\nfig.set_size_inches(20, 20)\\n\\nfor i in range(20):\\n  plt.subplot(5,4, i + 1)\\n  plt.imshow(train_imglabel1[i])\\nplt.show()\\n'"
            ]
          },
          "metadata": {
            "tags": []
          },
          "execution_count": 9
        }
      ]
    },
    {
      "cell_type": "code",
      "metadata": {
        "id": "ueyyqiwURSnB"
      },
      "source": [
        "!mkdir memes\n",
        "!mkdir memes/good\n",
        "!mkdir memes/bad\n",
        "!mkdir valmemes\n",
        "!mkdir valmemes/good\n",
        "!mkdir valmemes/bad"
      ],
      "execution_count": null,
      "outputs": []
    },
    {
      "cell_type": "code",
      "metadata": {
        "id": "OmjGJhnpPwqx"
      },
      "source": [
        "for i in range(len(train_imglabel1)):\n",
        "  train_imglabel1[i].save(\"/content/memes/good/img\"+str(datetime.now())+\".png\")\n"
      ],
      "execution_count": null,
      "outputs": []
    },
    {
      "cell_type": "code",
      "metadata": {
        "id": "yyyT5sbaT4HM"
      },
      "source": [
        "for i in range(len(train_imglabel0)):\n",
        "  train_imglabel0[i].save(\"/content/memes/bad/img\"+str(datetime.now())+\".png\")\n"
      ],
      "execution_count": null,
      "outputs": []
    },
    {
      "cell_type": "code",
      "metadata": {
        "id": "TiX4sbo6kdEM"
      },
      "source": [
        "for i in range(len(val_imglabel1)):\n",
        "  val_imglabel1[i].save(\"/content/valmemes/good/img\"+str(datetime.now())+\".png\")\n",
        "for i in range(len(val_imglabel0)):\n",
        "  val_imglabel0[i].save(\"/content/valmemes/bad/img\"+str(datetime.now())+\".png\")\n"
      ],
      "execution_count": null,
      "outputs": []
    },
    {
      "cell_type": "code",
      "metadata": {
        "id": "RUwZ73KuFNA4"
      },
      "source": [
        "val_y=df2.label\n",
        "#train_images=df.img\n",
        "val_images=df2.img\n",
        "#train_y=df.label\n"
      ],
      "execution_count": null,
      "outputs": []
    },
    {
      "cell_type": "code",
      "metadata": {
        "id": "SL9H__xn-6EQ",
        "outputId": "d7673c6e-c3cf-4dc5-cb27-90324cdfd929",
        "colab": {
          "base_uri": "https://localhost:8080/",
          "height": 52
        }
      },
      "source": [
        "\"\"\"from PIL import Image\n",
        "train_img=[]\n",
        "for i in range(len(train_images)):\n",
        "  train_img.append(Image.open('/content/data/'+train_images[i]).resize((224,224)).convert('LA'))\n",
        "\"\"\""
      ],
      "execution_count": null,
      "outputs": [
        {
          "output_type": "execute_result",
          "data": {
            "application/vnd.google.colaboratory.intrinsic+json": {
              "type": "string"
            },
            "text/plain": [
              "\"from PIL import Image\\ntrain_img=[]\\nfor i in range(len(train_images)):\\n  train_img.append(Image.open('/content/data/'+train_images[i]).resize((224,224)).convert('LA'))\\n\""
            ]
          },
          "metadata": {
            "tags": []
          },
          "execution_count": 15
        }
      ]
    },
    {
      "cell_type": "code",
      "metadata": {
        "id": "23uMig0AE-Fg",
        "outputId": "3805f20f-6af2-446a-c9ff-016051c561d0",
        "colab": {
          "base_uri": "https://localhost:8080/",
          "height": 35
        }
      },
      "source": [
        "\"\"\"val_img=[]\n",
        "for i in range(len(val_images)):\n",
        "  val_img.append(Image.open('/content/data/'+val_images[i]).resize((224,224)).convert('LA'))\n",
        "\"\"\"\n"
      ],
      "execution_count": null,
      "outputs": [
        {
          "output_type": "execute_result",
          "data": {
            "application/vnd.google.colaboratory.intrinsic+json": {
              "type": "string"
            },
            "text/plain": [
              "\"val_img=[]\\nfor i in range(len(val_images)):\\n  val_img.append(Image.open('/content/data/'+val_images[i]).resize((224,224)).convert('LA'))\\n\""
            ]
          },
          "metadata": {
            "tags": []
          },
          "execution_count": 16
        }
      ]
    },
    {
      "cell_type": "code",
      "metadata": {
        "id": "ci6V6Df6G3rA",
        "outputId": "8f8b991d-397a-4645-c9c3-eb4be45d9e41",
        "colab": {
          "base_uri": "https://localhost:8080/",
          "height": 35
        }
      },
      "source": [
        "\"\"\"val_flat=[]\n",
        "for i in range(len(val_images)):\n",
        "  val_flat.append(np.asanyarray(val_img[i]).flatten()/255)\n",
        "  \"\"\""
      ],
      "execution_count": null,
      "outputs": [
        {
          "output_type": "execute_result",
          "data": {
            "application/vnd.google.colaboratory.intrinsic+json": {
              "type": "string"
            },
            "text/plain": [
              "'val_flat=[]\\nfor i in range(len(val_images)):\\n  val_flat.append(np.asanyarray(val_img[i]).flatten()/255)\\n  '"
            ]
          },
          "metadata": {
            "tags": []
          },
          "execution_count": 17
        }
      ]
    },
    {
      "cell_type": "code",
      "metadata": {
        "id": "NvnkbmiyF5RG",
        "outputId": "b3de5d76-177f-4024-aa83-82c68e6bd7e2",
        "colab": {
          "base_uri": "https://localhost:8080/",
          "height": 35
        }
      },
      "source": [
        "\"\"\"train_flat=[]\n",
        "for i in range(len(train_images)):\n",
        "  train_flat.append(np.asanyarray(train_img[i]).flatten()/255)\n",
        "  \"\"\""
      ],
      "execution_count": null,
      "outputs": [
        {
          "output_type": "execute_result",
          "data": {
            "application/vnd.google.colaboratory.intrinsic+json": {
              "type": "string"
            },
            "text/plain": [
              "'train_flat=[]\\nfor i in range(len(train_images)):\\n  train_flat.append(np.asanyarray(train_img[i]).flatten()/255)\\n  '"
            ]
          },
          "metadata": {
            "tags": []
          },
          "execution_count": 18
        }
      ]
    },
    {
      "cell_type": "code",
      "metadata": {
        "id": "BIpAzMDWON72",
        "outputId": "bdd37dde-b814-498a-ae24-258312733bd7",
        "colab": {
          "base_uri": "https://localhost:8080/",
          "height": 35
        }
      },
      "source": [
        "\"\"\"train_flat=train_flat[:10]\n",
        "val_flat=val_flat[:10]\n",
        "train_y=train_y[:10]\n",
        "val_y=val_y[:10]\n",
        "\"\"\""
      ],
      "execution_count": null,
      "outputs": [
        {
          "output_type": "execute_result",
          "data": {
            "application/vnd.google.colaboratory.intrinsic+json": {
              "type": "string"
            },
            "text/plain": [
              "'train_flat=train_flat[:10]\\nval_flat=val_flat[:10]\\ntrain_y=train_y[:10]\\nval_y=val_y[:10]\\n'"
            ]
          },
          "metadata": {
            "tags": []
          },
          "execution_count": 19
        }
      ]
    },
    {
      "cell_type": "code",
      "metadata": {
        "id": "QWTzZmEyCcLZ",
        "outputId": "8528d8b8-c851-4dfb-f17a-a2b17a4400ff",
        "colab": {
          "base_uri": "https://localhost:8080/",
          "height": 69
        }
      },
      "source": [
        "\"\"\"from sklearn.tree import DecisionTreeClassifier\n",
        "from sklearn.metrics import mean_absolute_error\n",
        "model2 = DecisionTreeClassifier(random_state=0)\n",
        "model2.fit(train_flat, train_y)\n",
        "val_predictions = model2.predict(val_flat)\n",
        "val_mae1 = mean_absolute_error(val_predictions, val_y)\n",
        "print(val_mae1)\n",
        "from sklearn.metrics import accuracy_score\n",
        "print(accuracy_score(val_y, val_predictions))\n",
        "\"\"\""
      ],
      "execution_count": null,
      "outputs": [
        {
          "output_type": "execute_result",
          "data": {
            "application/vnd.google.colaboratory.intrinsic+json": {
              "type": "string"
            },
            "text/plain": [
              "'from sklearn.tree import DecisionTreeClassifier\\nfrom sklearn.metrics import mean_absolute_error\\nmodel2 = DecisionTreeClassifier(random_state=0)\\nmodel2.fit(train_flat, train_y)\\nval_predictions = model2.predict(val_flat)\\nval_mae1 = mean_absolute_error(val_predictions, val_y)\\nprint(val_mae1)\\nfrom sklearn.metrics import accuracy_score\\nprint(accuracy_score(val_y, val_predictions))\\n'"
            ]
          },
          "metadata": {
            "tags": []
          },
          "execution_count": 20
        }
      ]
    },
    {
      "cell_type": "code",
      "metadata": {
        "id": "9kvIYNJaRng5",
        "outputId": "b0cabc45-19e9-4b1c-dba0-3105f82060d8",
        "colab": {
          "base_uri": "https://localhost:8080/",
          "height": 52
        }
      },
      "source": [
        "\"\"\"import lightgbm as lgb\n",
        "clf = lgb.LGBMClassifier(verbose=1)\n",
        "clf.fit(train_flat, train_y)\n",
        "lgbpredictions=clf.predict(val_flat)\n",
        "from sklearn.metrics import accuracy_score\n",
        "print(accuracy_score(val_y, lgbpredictions))\n",
        "\"\"\""
      ],
      "execution_count": null,
      "outputs": [
        {
          "output_type": "execute_result",
          "data": {
            "application/vnd.google.colaboratory.intrinsic+json": {
              "type": "string"
            },
            "text/plain": [
              "'import lightgbm as lgb\\nclf = lgb.LGBMClassifier(verbose=1)\\nclf.fit(train_flat, train_y)\\nlgbpredictions=clf.predict(val_flat)\\nfrom sklearn.metrics import accuracy_score\\nprint(accuracy_score(val_y, lgbpredictions))\\n'"
            ]
          },
          "metadata": {
            "tags": []
          },
          "execution_count": 21
        }
      ]
    },
    {
      "cell_type": "code",
      "metadata": {
        "id": "ZZau2nyXlwAg",
        "outputId": "185fe29a-3274-43cc-e014-8b42b5f8c8de",
        "colab": {
          "base_uri": "https://localhost:8080/",
          "height": 69
        }
      },
      "source": [
        "\"\"\"model = tf.keras.models.Sequential([tf.keras.layers.Flatten(), \n",
        "                                    tf.keras.layers.Dense(128, activation=tf.nn.relu), \n",
        "                                    tf.keras.layers.Dense(2, activation=tf.nn.softmax)])\n",
        "model.compile(optimizer = tf.optimizers.Adam(),\n",
        "              loss = 'sparse_categorical_crossentropy',\n",
        "              metrics=['accuracy'])\n",
        "\n",
        "model.fit(train_img, train_y, epochs=5)\n",
        "model.evaluate(val_img, val_y)\n",
        "\"\"\""
      ],
      "execution_count": null,
      "outputs": [
        {
          "output_type": "execute_result",
          "data": {
            "application/vnd.google.colaboratory.intrinsic+json": {
              "type": "string"
            },
            "text/plain": [
              "\"model = tf.keras.models.Sequential([tf.keras.layers.Flatten(), \\n                                    tf.keras.layers.Dense(128, activation=tf.nn.relu), \\n                                    tf.keras.layers.Dense(2, activation=tf.nn.softmax)])\\nmodel.compile(optimizer = tf.optimizers.Adam(),\\n              loss = 'sparse_categorical_crossentropy',\\n              metrics=['accuracy'])\\n\\nmodel.fit(train_img, train_y, epochs=5)\\nmodel.evaluate(val_img, val_y)\\n\""
            ]
          },
          "metadata": {
            "tags": []
          },
          "execution_count": 22
        }
      ]
    },
    {
      "cell_type": "code",
      "metadata": {
        "id": "ESv0p7Thl3GS",
        "outputId": "66d9c253-e84b-44f5-a0b9-9b087baf9767",
        "colab": {
          "base_uri": "https://localhost:8080/",
          "height": 35
        }
      },
      "source": [
        "\"\"\"classifications = model.predict(test_images)\n",
        "\n",
        "print(classifications[0])\n",
        "print(test_labels[0])\n",
        "\"\"\""
      ],
      "execution_count": null,
      "outputs": [
        {
          "output_type": "execute_result",
          "data": {
            "application/vnd.google.colaboratory.intrinsic+json": {
              "type": "string"
            },
            "text/plain": [
              "'classifications = model.predict(test_images)\\n\\nprint(classifications[0])\\nprint(test_labels[0])\\n'"
            ]
          },
          "metadata": {
            "tags": []
          },
          "execution_count": 23
        }
      ]
    },
    {
      "cell_type": "code",
      "metadata": {
        "id": "6mL47iv7ojkI"
      },
      "source": [
        "model = tf.keras.models.Sequential([\n",
        "    # Note the input shape is the desired size of the image 300x300 with 3 bytes color\n",
        "    # This is the first convolution\n",
        "    tf.keras.layers.Conv2D(16, (3,3), activation='relu', input_shape=(300,300, 3)),\n",
        "    tf.keras.layers.MaxPooling2D(2, 2),\n",
        "    # The second convolution\n",
        "    tf.keras.layers.Conv2D(32, (3,3), activation='relu'),\n",
        "    tf.keras.layers.MaxPooling2D(2,2),\n",
        "    # The third convolution\n",
        "    tf.keras.layers.Conv2D(64, (3,3), activation='relu'),\n",
        "    tf.keras.layers.MaxPooling2D(2,2),\n",
        "    # The fourth convolution\n",
        "    tf.keras.layers.Conv2D(64, (3,3), activation='relu'),\n",
        "    tf.keras.layers.MaxPooling2D(2,2),\n",
        "    # The fifth convolution\n",
        "    tf.keras.layers.Conv2D(64, (3,3), activation='relu'),\n",
        "    tf.keras.layers.MaxPooling2D(2,2),\n",
        "    # Flatten the results to feed into a DNN\n",
        "    tf.keras.layers.Flatten(),\n",
        "    # 512 neuron hidden layer\n",
        "    tf.keras.layers.Dense(512, activation='relu'),\n",
        "    # Only 1 output neuron. It will contain a value from 0-1 where 0 for 1 class ('horses') and 1 for the other ('humans')\n",
        "    tf.keras.layers.Dense(1, activation='sigmoid')\n",
        "])"
      ],
      "execution_count": null,
      "outputs": []
    },
    {
      "cell_type": "code",
      "metadata": {
        "id": "OavZ1ZFEokC0"
      },
      "source": [
        "from tensorflow.keras.optimizers import RMSprop\n",
        "\n",
        "model.compile(loss='binary_crossentropy',\n",
        "              optimizer=RMSprop(lr=0.001),\n",
        "              metrics=['accuracy'])"
      ],
      "execution_count": null,
      "outputs": []
    },
    {
      "cell_type": "code",
      "metadata": {
        "id": "OnPWZDhSW2wc",
        "outputId": "b720c513-4a15-42ff-f1af-1c7a86aad778",
        "colab": {
          "base_uri": "https://localhost:8080/",
          "height": 34
        }
      },
      "source": [
        "import os\n",
        "import shutil\n",
        "\n",
        "os.listdir(\"/content/memes\") #First find where the \".ipynb_checkpoints\" is located.\n",
        "\n"
      ],
      "execution_count": null,
      "outputs": [
        {
          "output_type": "execute_result",
          "data": {
            "text/plain": [
              "['good', 'bad']"
            ]
          },
          "metadata": {
            "tags": []
          },
          "execution_count": 28
        }
      ]
    },
    {
      "cell_type": "code",
      "metadata": {
        "id": "ALdz4UOJW9as",
        "outputId": "00184e39-4158-462a-de05-49e6679c90fa",
        "colab": {
          "base_uri": "https://localhost:8080/",
          "height": 340
        }
      },
      "source": [
        "shutil.rmtree(\"/content/valmemes/.ipynb_checkpoints\") \n",
        "shutil.rmtree(\"/content/memes/.ipynb_checkpoints\") \n",
        "#shutil.rmtree(\"/content/memes/la\") "
      ],
      "execution_count": null,
      "outputs": [
        {
          "output_type": "error",
          "ename": "FileNotFoundError",
          "evalue": "ignored",
          "traceback": [
            "\u001b[0;31m---------------------------------------------------------------------------\u001b[0m",
            "\u001b[0;31mFileNotFoundError\u001b[0m                         Traceback (most recent call last)",
            "\u001b[0;32m<ipython-input-27-3ef084dfbc6d>\u001b[0m in \u001b[0;36m<module>\u001b[0;34m()\u001b[0m\n\u001b[0;32m----> 1\u001b[0;31m \u001b[0mshutil\u001b[0m\u001b[0;34m.\u001b[0m\u001b[0mrmtree\u001b[0m\u001b[0;34m(\u001b[0m\u001b[0;34m\"/content/valmemes/.ipynb_checkpoints\"\u001b[0m\u001b[0;34m)\u001b[0m\u001b[0;34m\u001b[0m\u001b[0;34m\u001b[0m\u001b[0m\n\u001b[0m\u001b[1;32m      2\u001b[0m \u001b[0mshutil\u001b[0m\u001b[0;34m.\u001b[0m\u001b[0mrmtree\u001b[0m\u001b[0;34m(\u001b[0m\u001b[0;34m\"/content/memes/.ipynb_checkpoints\"\u001b[0m\u001b[0;34m)\u001b[0m\u001b[0;34m\u001b[0m\u001b[0;34m\u001b[0m\u001b[0m\n\u001b[1;32m      3\u001b[0m \u001b[0;31m#shutil.rmtree(\"/content/memes/la\")\u001b[0m\u001b[0;34m\u001b[0m\u001b[0;34m\u001b[0m\u001b[0;34m\u001b[0m\u001b[0m\n",
            "\u001b[0;32m/usr/lib/python3.6/shutil.py\u001b[0m in \u001b[0;36mrmtree\u001b[0;34m(path, ignore_errors, onerror)\u001b[0m\n\u001b[1;32m    475\u001b[0m             \u001b[0morig_st\u001b[0m \u001b[0;34m=\u001b[0m \u001b[0mos\u001b[0m\u001b[0;34m.\u001b[0m\u001b[0mlstat\u001b[0m\u001b[0;34m(\u001b[0m\u001b[0mpath\u001b[0m\u001b[0;34m)\u001b[0m\u001b[0;34m\u001b[0m\u001b[0;34m\u001b[0m\u001b[0m\n\u001b[1;32m    476\u001b[0m         \u001b[0;32mexcept\u001b[0m \u001b[0mException\u001b[0m\u001b[0;34m:\u001b[0m\u001b[0;34m\u001b[0m\u001b[0;34m\u001b[0m\u001b[0m\n\u001b[0;32m--> 477\u001b[0;31m             \u001b[0monerror\u001b[0m\u001b[0;34m(\u001b[0m\u001b[0mos\u001b[0m\u001b[0;34m.\u001b[0m\u001b[0mlstat\u001b[0m\u001b[0;34m,\u001b[0m \u001b[0mpath\u001b[0m\u001b[0;34m,\u001b[0m \u001b[0msys\u001b[0m\u001b[0;34m.\u001b[0m\u001b[0mexc_info\u001b[0m\u001b[0;34m(\u001b[0m\u001b[0;34m)\u001b[0m\u001b[0;34m)\u001b[0m\u001b[0;34m\u001b[0m\u001b[0;34m\u001b[0m\u001b[0m\n\u001b[0m\u001b[1;32m    478\u001b[0m             \u001b[0;32mreturn\u001b[0m\u001b[0;34m\u001b[0m\u001b[0;34m\u001b[0m\u001b[0m\n\u001b[1;32m    479\u001b[0m         \u001b[0;32mtry\u001b[0m\u001b[0;34m:\u001b[0m\u001b[0;34m\u001b[0m\u001b[0;34m\u001b[0m\u001b[0m\n",
            "\u001b[0;32m/usr/lib/python3.6/shutil.py\u001b[0m in \u001b[0;36mrmtree\u001b[0;34m(path, ignore_errors, onerror)\u001b[0m\n\u001b[1;32m    473\u001b[0m         \u001b[0;31m# lstat()/open()/fstat() trick.\u001b[0m\u001b[0;34m\u001b[0m\u001b[0;34m\u001b[0m\u001b[0;34m\u001b[0m\u001b[0m\n\u001b[1;32m    474\u001b[0m         \u001b[0;32mtry\u001b[0m\u001b[0;34m:\u001b[0m\u001b[0;34m\u001b[0m\u001b[0;34m\u001b[0m\u001b[0m\n\u001b[0;32m--> 475\u001b[0;31m             \u001b[0morig_st\u001b[0m \u001b[0;34m=\u001b[0m \u001b[0mos\u001b[0m\u001b[0;34m.\u001b[0m\u001b[0mlstat\u001b[0m\u001b[0;34m(\u001b[0m\u001b[0mpath\u001b[0m\u001b[0;34m)\u001b[0m\u001b[0;34m\u001b[0m\u001b[0;34m\u001b[0m\u001b[0m\n\u001b[0m\u001b[1;32m    476\u001b[0m         \u001b[0;32mexcept\u001b[0m \u001b[0mException\u001b[0m\u001b[0;34m:\u001b[0m\u001b[0;34m\u001b[0m\u001b[0;34m\u001b[0m\u001b[0m\n\u001b[1;32m    477\u001b[0m             \u001b[0monerror\u001b[0m\u001b[0;34m(\u001b[0m\u001b[0mos\u001b[0m\u001b[0;34m.\u001b[0m\u001b[0mlstat\u001b[0m\u001b[0;34m,\u001b[0m \u001b[0mpath\u001b[0m\u001b[0;34m,\u001b[0m \u001b[0msys\u001b[0m\u001b[0;34m.\u001b[0m\u001b[0mexc_info\u001b[0m\u001b[0;34m(\u001b[0m\u001b[0;34m)\u001b[0m\u001b[0;34m)\u001b[0m\u001b[0;34m\u001b[0m\u001b[0;34m\u001b[0m\u001b[0m\n",
            "\u001b[0;31mFileNotFoundError\u001b[0m: [Errno 2] No such file or directory: '/content/valmemes/.ipynb_checkpoints'"
          ]
        }
      ]
    },
    {
      "cell_type": "code",
      "metadata": {
        "id": "d0KwMB_2omov",
        "outputId": "e0e815e4-96c7-42fe-e9e8-9ab74a435635",
        "colab": {
          "base_uri": "https://localhost:8080/",
          "height": 51
        }
      },
      "source": [
        "from tensorflow.keras.preprocessing.image import ImageDataGenerator\n",
        "\n",
        "# All images will be rescaled by 1./255\n",
        "train_datagen = ImageDataGenerator(rescale=1/255)\n",
        "validation_datagen = ImageDataGenerator(rescale=1/255)\n",
        "\n",
        "# Flow training images in batches of 128 using train_datagen generator\n",
        "train_generator = train_datagen.flow_from_directory(\n",
        "        '/content/memes/',  # This is the source directory for training images\n",
        "        target_size=(300, 300),  # All images will be resized to 150x150\n",
        "        batch_size=128,\n",
        "        # Since we use binary_crossentropy loss, we need binary labels\n",
        "        class_mode='binary')\n",
        "validation_generator = validation_datagen.flow_from_directory(\n",
        "        '/content/valmemes/',  # This is the source directory for training images\n",
        "        target_size=(300, 300),  # All images will be resized to 300x300\n",
        "        batch_size=32,\n",
        "        # Since we use binary_crossentropy loss, we need binary labels\n",
        "        class_mode='binary')"
      ],
      "execution_count": null,
      "outputs": [
        {
          "output_type": "stream",
          "text": [
            "Found 8500 images belonging to 2 classes.\n",
            "Found 500 images belonging to 2 classes.\n"
          ],
          "name": "stdout"
        }
      ]
    },
    {
      "cell_type": "code",
      "metadata": {
        "id": "zrp1tCLNVAKb",
        "outputId": "ba288a8a-5cf9-46bc-f6cd-b490fd619acc",
        "colab": {
          "base_uri": "https://localhost:8080/",
          "height": 187
        }
      },
      "source": [
        "history = model.fit(\n",
        "      train_generator,  \n",
        "      epochs=5,\n",
        "      validation_data = validation_generator,\n",
        "\n",
        "      verbose=1)"
      ],
      "execution_count": null,
      "outputs": [
        {
          "output_type": "stream",
          "text": [
            "Epoch 1/5\n",
            "67/67 [==============================] - 28s 412ms/step - loss: 0.7243 - accuracy: 0.6355 - val_loss: 0.7491 - val_accuracy: 0.5000\n",
            "Epoch 2/5\n",
            "67/67 [==============================] - 26s 382ms/step - loss: 0.6521 - accuracy: 0.6431 - val_loss: 0.7383 - val_accuracy: 0.5200\n",
            "Epoch 3/5\n",
            "67/67 [==============================] - 26s 383ms/step - loss: 0.6407 - accuracy: 0.6441 - val_loss: 0.7440 - val_accuracy: 0.5040\n",
            "Epoch 4/5\n",
            "67/67 [==============================] - 26s 383ms/step - loss: 0.6354 - accuracy: 0.6495 - val_loss: 0.7704 - val_accuracy: 0.4960\n",
            "Epoch 5/5\n",
            "67/67 [==============================] - 26s 383ms/step - loss: 0.6282 - accuracy: 0.6544 - val_loss: 0.8117 - val_accuracy: 0.5080\n"
          ],
          "name": "stdout"
        }
      ]
    },
    {
      "cell_type": "code",
      "metadata": {
        "id": "zk1Qinh_VqMd",
        "outputId": "a61f5b3a-84c8-4b05-d195-4dde072bb12e",
        "colab": {
          "base_uri": "https://localhost:8080/",
          "height": 86
        }
      },
      "source": [
        "\"\"\"import numpy as np\n",
        "from google.colab import files\n",
        "from keras.preprocessing import image\n",
        "\n",
        "uploaded = files.upload()\n",
        "\n",
        "for fn in uploaded.keys():\n",
        " \n",
        "  # predicting images\n",
        "  path = '/content/' + fn\n",
        "  img = image.load_img(path, target_size=(300, 300))\n",
        "  x = image.img_to_array(img)\n",
        "  x = np.expand_dims(x, axis=0)\n",
        "\n",
        "  images = np.vstack([x])\n",
        "  classes = model.predict(images, batch_size=10)\n",
        "  print(classes[0])\n",
        "  if classes[0]>0.5:\n",
        "    print(fn + \" 1\")\n",
        "  else:\n",
        "    print(fn + \" 0\")\n",
        "\"\"\" "
      ],
      "execution_count": null,
      "outputs": [
        {
          "output_type": "execute_result",
          "data": {
            "application/vnd.google.colaboratory.intrinsic+json": {
              "type": "string"
            },
            "text/plain": [
              "'import numpy as np\\nfrom google.colab import files\\nfrom keras.preprocessing import image\\n\\nuploaded = files.upload()\\n\\nfor fn in uploaded.keys():\\n \\n  # predicting images\\n  path = \\'/content/\\' + fn\\n  img = image.load_img(path, target_size=(300, 300))\\n  x = image.img_to_array(img)\\n  x = np.expand_dims(x, axis=0)\\n\\n  images = np.vstack([x])\\n  classes = model.predict(images, batch_size=10)\\n  print(classes[0])\\n  if classes[0]>0.5:\\n    print(fn + \" 1\")\\n  else:\\n    print(fn + \" 0\")\\n'"
            ]
          },
          "metadata": {
            "tags": []
          },
          "execution_count": 31
        }
      ]
    },
    {
      "cell_type": "code",
      "metadata": {
        "id": "r2hRFwsgifF9",
        "outputId": "1603dfbd-4bcd-4ea4-bb46-ea76d0cc9bda",
        "colab": {
          "base_uri": "https://localhost:8080/",
          "height": 137
        }
      },
      "source": [
        "\"\"\"import numpy as np\n",
        "import random\n",
        "from tensorflow.keras.preprocessing.image import img_to_array, load_img\n",
        "\n",
        "# Let's define a new Model that will take an image as input, and will output\n",
        "# intermediate representations for all layers in the previous model after\n",
        "# the first.\n",
        "successive_outputs = [layer.output for layer in model.layers[1:]]\n",
        "#visualization_model = Model(img_input, successive_outputs)\n",
        "visualization_model = tf.keras.models.Model(inputs = model.input, outputs = successive_outputs)\n",
        "# Let's prepare a random input image from the training set.\n",
        "horse_img_files = [os.path.join(train_horse_dir, f) for f in train_horse_names]\n",
        "human_img_files = [os.path.join(train_human_dir, f) for f in train_human_names]\n",
        "img_path = random.choice(horse_img_files + human_img_files)\n",
        "\n",
        "img = load_img(img_path, target_size=(300, 300))  # this is a PIL image\n",
        "x = img_to_array(img)  # Numpy array with shape (150, 150, 3)\n",
        "x = x.reshape((1,) + x.shape)  # Numpy array with shape (1, 150, 150, 3)\n",
        "\n",
        "# Rescale by 1/255\n",
        "x /= 255\n",
        "\n",
        "# Let's run our image through our network, thus obtaining all\n",
        "# intermediate representations for this image.\n",
        "successive_feature_maps = visualization_model.predict(x)\n",
        "\n",
        "# These are the names of the layers, so can have them as part of our plot\n",
        "layer_names = [layer.name for layer in model.layers[1:]]\n",
        "\n",
        "# Now let's display our representations\n",
        "for layer_name, feature_map in zip(layer_names, successive_feature_maps):\n",
        "  if len(feature_map.shape) == 4:\n",
        "    # Just do this for the conv / maxpool layers, not the fully-connected layers\n",
        "    n_features = feature_map.shape[-1]  # number of features in feature map\n",
        "    # The feature map has shape (1, size, size, n_features)\n",
        "    size = feature_map.shape[1]\n",
        "    # We will tile our images in this matrix\n",
        "    display_grid = np.zeros((size, size * n_features))\n",
        "    for i in range(n_features):\n",
        "      # Postprocess the feature to make it visually palatable\n",
        "      x = feature_map[0, :, :, i]\n",
        "      x -= x.mean()\n",
        "      x /= x.std()\n",
        "      x *= 64\n",
        "      x += 128\n",
        "      x = np.clip(x, 0, 255).astype('uint8')\n",
        "      # We'll tile each filter into this big horizontal grid\n",
        "      display_grid[:, i * size : (i + 1) * size] = x\n",
        "    # Display the grid\n",
        "    scale = 20. / n_features\n",
        "    plt.figure(figsize=(scale * n_features, scale))\n",
        "    plt.title(layer_name)\n",
        "    plt.grid(False)\n",
        "    plt.imshow(display_grid, aspect='auto', cmap='viridis')\n",
        "    \"\"\""
      ],
      "execution_count": null,
      "outputs": [
        {
          "output_type": "execute_result",
          "data": {
            "application/vnd.google.colaboratory.intrinsic+json": {
              "type": "string"
            },
            "text/plain": [
              "\"import numpy as np\\nimport random\\nfrom tensorflow.keras.preprocessing.image import img_to_array, load_img\\n\\n# Let's define a new Model that will take an image as input, and will output\\n# intermediate representations for all layers in the previous model after\\n# the first.\\nsuccessive_outputs = [layer.output for layer in model.layers[1:]]\\n#visualization_model = Model(img_input, successive_outputs)\\nvisualization_model = tf.keras.models.Model(inputs = model.input, outputs = successive_outputs)\\n# Let's prepare a random input image from the training set.\\nhorse_img_files = [os.path.join(train_horse_dir, f) for f in train_horse_names]\\nhuman_img_files = [os.path.join(train_human_dir, f) for f in train_human_names]\\nimg_path = random.choice(horse_img_files + human_img_files)\\n\\nimg = load_img(img_path, target_size=(300, 300))  # this is a PIL image\\nx = img_to_array(img)  # Numpy array with shape (150, 150, 3)\\nx = x.reshape((1,) + x.shape)  # Numpy array with shape (1, 150, 150, 3)\\n\\n# Rescale by 1/255\\nx /= 255\\n\\n# Let's run our image through our network, thus obtaining all\\n# intermediate representations for this image.\\nsuccessive_feature_maps = visualization_model.predict(x)\\n\\n# These are the names of the layers, so can have them as part of our plot\\nlayer_names = [layer.name for layer in model.layers[1:]]\\n\\n# Now let's display our representations\\nfor layer_name, feature_map in zip(layer_names, successive_feature_maps):\\n  if len(feature_map.shape) == 4:\\n    # Just do this for the conv / maxpool layers, not the fully-connected layers\\n    n_features = feature_map.shape[-1]  # number of features in feature map\\n    # The feature map has shape (1, size, size, n_features)\\n    size = feature_map.shape[1]\\n    # We will tile our images in this matrix\\n    display_grid = np.zeros((size, size * n_features))\\n    for i in range(n_features):\\n      # Postprocess the feature to make it visually palatable\\n      x = feature_map[0, :, :, i]\\n      x -= x.mean()\\n      x /= x.std()\\n      x *= 64\\n      x += 128\\n      x = np.clip(x, 0, 255).astype('uint8')\\n      # We'll tile each filter into this big horizontal grid\\n      display_grid[:, i * size : (i + 1) * size] = x\\n    # Display the grid\\n    scale = 20. / n_features\\n    plt.figure(figsize=(scale * n_features, scale))\\n    plt.title(layer_name)\\n    plt.grid(False)\\n    plt.imshow(display_grid, aspect='auto', cmap='viridis')\\n    \""
            ]
          },
          "metadata": {
            "tags": []
          },
          "execution_count": 32
        }
      ]
    },
    {
      "cell_type": "code",
      "metadata": {
        "id": "6Ta14GdOpcvx",
        "outputId": "b65c9c6b-5639-4d6b-cbe5-07c09dfb460f",
        "colab": {
          "base_uri": "https://localhost:8080/",
          "height": 1000
        }
      },
      "source": [
        "from tensorflow.keras.preprocessing.text import Tokenizer\n",
        "from tensorflow.keras.preprocessing.sequence import pad_sequences\n",
        "vocab_size = 1000\n",
        "embedding_dim = 16\n",
        "max_length = 120\n",
        "trunc_type='post'\n",
        "padding_type='post'\n",
        "oov_tok = \"<OOV>\"\n",
        "training_size = 20000\n",
        "\n",
        "training_sentences = df.text\n",
        "testing_sentences = df2.text\n",
        "training_labels = df.label\n",
        "testing_labels = df2.label\n",
        "tokenizer = Tokenizer(num_words=vocab_size, oov_token=oov_tok)\n",
        "tokenizer.fit_on_texts(training_sentences)\n",
        "\n",
        "word_index = tokenizer.word_index\n",
        "\n",
        "training_sequences = tokenizer.texts_to_sequences(training_sentences)\n",
        "training_padded = pad_sequences(training_sequences, maxlen=max_length, padding=padding_type, truncating=trunc_type)\n",
        "\n",
        "testing_sequences = tokenizer.texts_to_sequences(testing_sentences)\n",
        "testing_padded = pad_sequences(testing_sequences, maxlen=max_length, padding=padding_type, truncating=trunc_type)\n",
        "\n",
        "model2 = tf.keras.Sequential([\n",
        "    tf.keras.layers.Embedding(vocab_size, embedding_dim, input_length=max_length),\n",
        "    tf.keras.layers.Bidirectional(tf.keras.layers.LSTM(32,return_sequences=True)),\n",
        "    tf.keras.layers.Bidirectional(tf.keras.layers.LSTM(64)),\n",
        "\n",
        "    tf.keras.layers.Dense(24, activation='relu'),\n",
        "    tf.keras.layers.Dense(1, activation='sigmoid')\n",
        "])\n",
        "model2.compile(loss='binary_crossentropy',optimizer='adam',metrics=['accuracy'])\n",
        "model2.summary()\n",
        "\n",
        "num_epochs = 20\n",
        "training_padded = np.array(training_padded)\n",
        "training_labels = np.array(training_labels)\n",
        "testing_padded = np.array(testing_padded)\n",
        "testing_labels = np.array(testing_labels)\n",
        "history = model2.fit(training_padded, training_labels, epochs=num_epochs, validation_data=(testing_padded, testing_labels), verbose=1)"
      ],
      "execution_count": null,
      "outputs": [
        {
          "output_type": "stream",
          "text": [
            "Model: \"sequential_2\"\n",
            "_________________________________________________________________\n",
            "Layer (type)                 Output Shape              Param #   \n",
            "=================================================================\n",
            "embedding_2 (Embedding)      (None, 120, 16)           16000     \n",
            "_________________________________________________________________\n",
            "bidirectional_1 (Bidirection (None, 120, 64)           12544     \n",
            "_________________________________________________________________\n",
            "bidirectional_2 (Bidirection (None, 128)               66048     \n",
            "_________________________________________________________________\n",
            "dense_4 (Dense)              (None, 24)                3096      \n",
            "_________________________________________________________________\n",
            "dense_5 (Dense)              (None, 1)                 25        \n",
            "=================================================================\n",
            "Total params: 97,713\n",
            "Trainable params: 97,713\n",
            "Non-trainable params: 0\n",
            "_________________________________________________________________\n",
            "Epoch 1/20\n",
            "266/266 [==============================] - 7s 27ms/step - loss: 0.6368 - accuracy: 0.6566 - val_loss: 0.7817 - val_accuracy: 0.5260\n",
            "Epoch 2/20\n",
            "266/266 [==============================] - 6s 22ms/step - loss: 0.5661 - accuracy: 0.7182 - val_loss: 0.8327 - val_accuracy: 0.5340\n",
            "Epoch 3/20\n",
            "266/266 [==============================] - 6s 22ms/step - loss: 0.5436 - accuracy: 0.7333 - val_loss: 0.7533 - val_accuracy: 0.5320\n",
            "Epoch 4/20\n",
            "266/266 [==============================] - 6s 23ms/step - loss: 0.5257 - accuracy: 0.7401 - val_loss: 0.7944 - val_accuracy: 0.5480\n",
            "Epoch 5/20\n",
            "266/266 [==============================] - 6s 22ms/step - loss: 0.5186 - accuracy: 0.7455 - val_loss: 0.7515 - val_accuracy: 0.5500\n",
            "Epoch 6/20\n",
            "266/266 [==============================] - 6s 22ms/step - loss: 0.5077 - accuracy: 0.7481 - val_loss: 0.8410 - val_accuracy: 0.5460\n",
            "Epoch 7/20\n",
            "266/266 [==============================] - 6s 22ms/step - loss: 0.4977 - accuracy: 0.7453 - val_loss: 0.8135 - val_accuracy: 0.5440\n",
            "Epoch 8/20\n",
            "266/266 [==============================] - 6s 22ms/step - loss: 0.4896 - accuracy: 0.7496 - val_loss: 0.8451 - val_accuracy: 0.5400\n",
            "Epoch 9/20\n",
            "266/266 [==============================] - 6s 22ms/step - loss: 0.4846 - accuracy: 0.7460 - val_loss: 0.8684 - val_accuracy: 0.5460\n",
            "Epoch 10/20\n",
            "266/266 [==============================] - 6s 22ms/step - loss: 0.4728 - accuracy: 0.7504 - val_loss: 0.8483 - val_accuracy: 0.5500\n",
            "Epoch 11/20\n",
            "266/266 [==============================] - 6s 22ms/step - loss: 0.4700 - accuracy: 0.7505 - val_loss: 0.9302 - val_accuracy: 0.5520\n",
            "Epoch 12/20\n",
            "266/266 [==============================] - 6s 22ms/step - loss: 0.4537 - accuracy: 0.7526 - val_loss: 0.8495 - val_accuracy: 0.5400\n",
            "Epoch 13/20\n",
            "266/266 [==============================] - 6s 22ms/step - loss: 0.4486 - accuracy: 0.7580 - val_loss: 0.9708 - val_accuracy: 0.5340\n",
            "Epoch 14/20\n",
            "266/266 [==============================] - 6s 22ms/step - loss: 0.4381 - accuracy: 0.7588 - val_loss: 1.1529 - val_accuracy: 0.5420\n",
            "Epoch 15/20\n",
            "266/266 [==============================] - 6s 22ms/step - loss: 0.4354 - accuracy: 0.7631 - val_loss: 1.2188 - val_accuracy: 0.5300\n",
            "Epoch 16/20\n",
            "266/266 [==============================] - 6s 22ms/step - loss: 0.4248 - accuracy: 0.7596 - val_loss: 1.1723 - val_accuracy: 0.5320\n",
            "Epoch 17/20\n",
            "266/266 [==============================] - 6s 23ms/step - loss: 0.4180 - accuracy: 0.7645 - val_loss: 1.4150 - val_accuracy: 0.5360\n",
            "Epoch 18/20\n",
            "266/266 [==============================] - 6s 23ms/step - loss: 0.4124 - accuracy: 0.7645 - val_loss: 1.1769 - val_accuracy: 0.5260\n",
            "Epoch 19/20\n",
            "266/266 [==============================] - 6s 22ms/step - loss: 0.4074 - accuracy: 0.7665 - val_loss: 1.2452 - val_accuracy: 0.5180\n",
            "Epoch 20/20\n",
            "266/266 [==============================] - 6s 22ms/step - loss: 0.4008 - accuracy: 0.7692 - val_loss: 1.4625 - val_accuracy: 0.5220\n"
          ],
          "name": "stdout"
        }
      ]
    },
    {
      "cell_type": "code",
      "metadata": {
        "id": "V5owz25WDSk2",
        "outputId": "862b2f0a-239f-425d-a329-c04661f50891",
        "colab": {
          "base_uri": "https://localhost:8080/",
          "height": 541
        }
      },
      "source": [
        "import matplotlib.pyplot as plt\n",
        "\n",
        "\n",
        "def plot_graphs(history, string):\n",
        "  plt.plot(history.history[string])\n",
        "  plt.plot(history.history['val_'+string])\n",
        "  plt.xlabel(\"Epochs\")\n",
        "  plt.ylabel(string)\n",
        "  plt.legend([string, 'val_'+string])\n",
        "  plt.show()\n",
        "\n",
        "plot_graphs(history, 'accuracy')\n",
        "plot_graphs(history, 'loss')"
      ],
      "execution_count": null,
      "outputs": [
        {
          "output_type": "display_data",
          "data": {
            "image/png": "[encoded data removed]",
            "text/plain": [
              "<Figure size 432x288 with 1 Axes>"
            ]
          },
          "metadata": {
            "tags": [],
            "needs_background": "light"
          }
        },
        {
          "output_type": "display_data",
          "data": {
            "image/png": "[encoded data removed]",
            "text/plain": [
              "<Figure size 432x288 with 1 Axes>"
            ]
          },
          "metadata": {
            "tags": [],
            "needs_background": "light"
          }
        }
      ]
    },
    {
      "cell_type": "code",
      "metadata": {
        "id": "l2P3IF27EPTO",
        "outputId": "d94359fb-1ad7-489b-ac00-2a9292c33631",
        "colab": {
          "base_uri": "https://localhost:8080/",
          "height": 251
        }
      },
      "source": [
        "reverse_word_index = dict([(value, key) for (key, value) in word_index.items()])\n",
        "\n",
        "def decode_sentence(text):\n",
        "    return ' '.join([reverse_word_index.get(i, '?') for i in text])\n",
        "\n",
        "print(decode_sentence(training_padded[0]))\n",
        "print(training_sentences[2])\n",
        "print(labels[2])"
      ],
      "execution_count": null,
      "outputs": [
        {
          "output_type": "stream",
          "text": [
            "its their <OOV> not their color that <OOV> ? ? ? ? ? ? ? ? ? ? ? ? ? ? ? ? ? ? ? ? ? ? ? ? ? ? ? ? ? ? ? ? ? ? ? ? ? ? ? ? ? ? ? ? ? ? ? ? ? ? ? ? ? ? ? ? ? ? ? ? ? ? ? ? ? ? ? ? ? ? ? ? ? ? ? ? ? ? ? ? ? ? ? ? ? ? ? ? ? ? ? ? ? ? ? ? ? ? ? ? ? ? ? ? ? ? ? ? ? ? ? ?\n",
            "putting bows on your pet\n"
          ],
          "name": "stdout"
        },
        {
          "output_type": "error",
          "ename": "NameError",
          "evalue": "ignored",
          "traceback": [
            "\u001b[0;31m---------------------------------------------------------------------------\u001b[0m",
            "\u001b[0;31mNameError\u001b[0m                                 Traceback (most recent call last)",
            "\u001b[0;32m<ipython-input-35-6a4cd4512d7f>\u001b[0m in \u001b[0;36m<module>\u001b[0;34m()\u001b[0m\n\u001b[1;32m      6\u001b[0m \u001b[0mprint\u001b[0m\u001b[0;34m(\u001b[0m\u001b[0mdecode_sentence\u001b[0m\u001b[0;34m(\u001b[0m\u001b[0mtraining_padded\u001b[0m\u001b[0;34m[\u001b[0m\u001b[0;36m0\u001b[0m\u001b[0;34m]\u001b[0m\u001b[0;34m)\u001b[0m\u001b[0;34m)\u001b[0m\u001b[0;34m\u001b[0m\u001b[0;34m\u001b[0m\u001b[0m\n\u001b[1;32m      7\u001b[0m \u001b[0mprint\u001b[0m\u001b[0;34m(\u001b[0m\u001b[0mtraining_sentences\u001b[0m\u001b[0;34m[\u001b[0m\u001b[0;36m2\u001b[0m\u001b[0;34m]\u001b[0m\u001b[0;34m)\u001b[0m\u001b[0;34m\u001b[0m\u001b[0;34m\u001b[0m\u001b[0m\n\u001b[0;32m----> 8\u001b[0;31m \u001b[0mprint\u001b[0m\u001b[0;34m(\u001b[0m\u001b[0mlabels\u001b[0m\u001b[0;34m[\u001b[0m\u001b[0;36m2\u001b[0m\u001b[0;34m]\u001b[0m\u001b[0;34m)\u001b[0m\u001b[0;34m\u001b[0m\u001b[0;34m\u001b[0m\u001b[0m\n\u001b[0m",
            "\u001b[0;31mNameError\u001b[0m: name 'labels' is not defined"
          ]
        }
      ]
    },
    {
      "cell_type": "code",
      "metadata": {
        "id": "2SMH2MWrFGjS"
      },
      "source": [
        "sentence = [\"lets go beat up lesbians\", \"game of thrones season finale showing this sunday night\"]\n",
        "sequences = tokenizer.texts_to_sequences(sentence)\n",
        "padded = pad_sequences(sequences, maxlen=max_length, padding=padding_type, truncating=trunc_type)\n",
        "print(model2.predict(padded))"
      ],
      "execution_count": null,
      "outputs": []
    },
    {
      "cell_type": "code",
      "metadata": {
        "id": "7Bt42XdnFUhr"
      },
      "source": [
        "df3=pd.read_json(\"/content/data/test.jsonl\",lines=True)"
      ],
      "execution_count": null,
      "outputs": []
    },
    {
      "cell_type": "code",
      "metadata": {
        "id": "JQrMv1xNINnQ"
      },
      "source": [
        "df3"
      ],
      "execution_count": null,
      "outputs": []
    },
    {
      "cell_type": "code",
      "metadata": {
        "id": "Ll7FPiekIUXo"
      },
      "source": [
        "from PIL import Image\n",
        "test=[]\n",
        "\n",
        "for i in range(len(df3)):\n",
        "  test.append(Image.open('/content/data/'+df3.img[i]).resize((300,300)))\n",
        "  "
      ],
      "execution_count": null,
      "outputs": []
    },
    {
      "cell_type": "code",
      "metadata": {
        "id": "0ZcSKd_MMjSM"
      },
      "source": [
        "testlabel=[]\n",
        "for i in range(len(df3)):\n",
        "  testlabel.append(df3.text[i])"
      ],
      "execution_count": null,
      "outputs": []
    },
    {
      "cell_type": "code",
      "metadata": {
        "id": "IzHAWnncMsRF"
      },
      "source": [
        "\n",
        "\n",
        "sequences = tokenizer.texts_to_sequences(testlabel)\n",
        "padded = pad_sequences(sequences, maxlen=max_length, padding=padding_type, truncating=trunc_type)\n",
        "label1 = model2.predict(padded)\n",
        "#label1.append(classes)\n",
        "  "
      ],
      "execution_count": null,
      "outputs": []
    },
    {
      "cell_type": "code",
      "metadata": {
        "id": "F_B6V-nmNyLh"
      },
      "source": [
        "label1[2][0]"
      ],
      "execution_count": null,
      "outputs": []
    },
    {
      "cell_type": "code",
      "metadata": {
        "id": "XCIGtqizJNOB"
      },
      "source": [
        "from keras.preprocessing import image\n",
        "\n",
        "\n",
        "for i in range(len(df3)):\n",
        "  x = image.img_to_array(test[i])\n",
        "  x = np.expand_dims(x, axis=0)\n",
        "\n",
        "  images = np.vstack([x])\n",
        "  label2.append(model.predict(images, batch_size=10))\n",
        "#label2.append(classes)\n",
        "  "
      ],
      "execution_count": null,
      "outputs": []
    },
    {
      "cell_type": "code",
      "metadata": {
        "id": "38lSO-2qOLDU"
      },
      "source": [
        "label2[2][0][0]"
      ],
      "execution_count": null,
      "outputs": []
    },
    {
      "cell_type": "code",
      "metadata": {
        "id": "BAhVpIhKOfoj"
      },
      "source": [
        "label=[]\n",
        "prob=[]\n",
        "for i in range(len(df3)):\n",
        "  prob.append(label1[i][0]*0.75+label2[i][0][0]*0.25)\n",
        "\n",
        "for i in range(len(df3)):\n",
        "   if(prob[i]>0.5):\n",
        "    label.append(1)\n",
        "   else:\n",
        "    label.append(0)"
      ],
      "execution_count": null,
      "outputs": []
    },
    {
      "cell_type": "code",
      "metadata": {
        "id": "wp4JnQ6OTfQ_"
      },
      "source": [
        "label[0]"
      ],
      "execution_count": null,
      "outputs": []
    },
    {
      "cell_type": "code",
      "metadata": {
        "id": "ijnrGi4dSbb2"
      },
      "source": [
        "prob[0]"
      ],
      "execution_count": null,
      "outputs": []
    },
    {
      "cell_type": "code",
      "metadata": {
        "id": "KlK4rZyHJ2bS"
      },
      "source": [
        "\n",
        "output = pd.DataFrame({'id': df3.id,'proba':prob,'label': label})\n",
        "output.to_csv('submission.csv', index=False)"
      ],
      "execution_count": null,
      "outputs": []
    }
  ]
}